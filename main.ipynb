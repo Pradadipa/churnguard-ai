{
 "cells": [
  {
   "cell_type": "markdown",
   "id": "56d15007",
   "metadata": {},
   "source": [
    "<h1> Create Simple Graph"
   ]
  },
  {
   "cell_type": "code",
   "execution_count": 9,
   "id": "b376a335",
   "metadata": {},
   "outputs": [],
   "source": [
    "from typing import Dict, Any, TypedDict\n",
    "from langgraph.graph import Graph, StateGraph"
   ]
  },
  {
   "cell_type": "code",
   "execution_count": 14,
   "id": "bda23ef4",
   "metadata": {},
   "outputs": [],
   "source": [
    "# Create an agent greeting function\n",
    "\n",
    "class AgentState(TypedDict):\n",
    "    message: str\n",
    "\n",
    "\n",
    "def greeting_node(state: AgentState) -> AgentState:\n",
    "    \"\"\" Simple greeting node for the agent. \"\"\"\n",
    "    state['message'] = \"Hello! \" + state['message'] + \" How can I assist you today?\"\n",
    "    \n",
    "    return state"
   ]
  },
  {
   "cell_type": "code",
   "execution_count": 15,
   "id": "8d6fc930",
   "metadata": {},
   "outputs": [],
   "source": [
    "graph = StateGraph(AgentState) # Create a state graph with the defined state type\n",
    "\n",
    "graph.add_node(\"greeter\", greeting_node) # Two arguments: node name and function\n",
    "\n",
    "graph.set_entry_point(\"greeter\") # Set the entry point of the graph use the node name\n",
    "graph.set_finish_point(\"greeter\") # Set the finish point of the graph use the node name\n",
    "\n",
    "app = graph.compile() # Compile the graph"
   ]
  },
  {
   "cell_type": "code",
   "execution_count": 12,
   "id": "721f2bfd",
   "metadata": {},
   "outputs": [
    {
     "data": {
      "image/jpeg": "[encoded data removed]",
      "text/plain": [
       "<IPython.core.display.Image object>"
      ]
     },
     "metadata": {},
     "output_type": "display_data"
    }
   ],
   "source": [
    "from IPython.display import display, Image\n",
    "display(Image(app.get_graph().draw_mermaid_png()))"
   ]
  },
  {
   "cell_type": "code",
   "execution_count": 17,
   "id": "4b59602a",
   "metadata": {},
   "outputs": [],
   "source": [
    "result = app.invoke({\"message\": \"Prada,\"})"
   ]
  },
  {
   "cell_type": "code",
   "execution_count": 18,
   "id": "c5855e3a",
   "metadata": {},
   "outputs": [
    {
     "data": {
      "text/plain": [
       "'Hello! Prada, How can I assist you today?'"
      ]
     },
     "execution_count": 18,
     "metadata": {},
     "output_type": "execute_result"
    }
   ],
   "source": [
    "result['message']"
   ]
  },
  {
   "cell_type": "markdown",
   "id": "3c5f2abb",
   "metadata": {},
   "source": [
    "# Exercise 1\n",
    " create a Personalized Compliment Agent using LangGraph!\n",
    "  \n",
    " `Hint: You have to concanate the state, not replace it`"
   ]
  },
  {
   "cell_type": "code",
   "execution_count": 20,
   "id": "97e7610b",
   "metadata": {},
   "outputs": [],
   "source": [
    "class ComplimentState(TypedDict):\n",
    "    message: str\n",
    "    \n",
    "def compliment_node(state: ComplimentState) -> ComplimentState:\n",
    "    \"\"\" Simple compliment node for the agent. \"\"\"\n",
    "    state['message'] = state['message'] + \" You are doing a great job!\"\n",
    "    \n",
    "    return state\n"
   ]
  },
  {
   "cell_type": "code",
   "execution_count": 21,
   "id": "757e82b3",
   "metadata": {},
   "outputs": [],
   "source": [
    "graph = StateGraph(ComplimentState) # Create a state graph with the defined state type\n",
    "\n",
    "graph.add_node(\"compliment\", compliment_node) # Two arguments: node name and function\n",
    "graph.set_entry_point(\"compliment\") # Set the entry point of the graph use the node name\n",
    "graph.set_finish_point(\"compliment\") # Set the finish point of the graph use the node name\n",
    "\n",
    "app = graph.compile() # Compile the graph"
   ]
  },
  {
   "cell_type": "code",
   "execution_count": 22,
   "id": "2354d62f",
   "metadata": {},
   "outputs": [
    {
     "data": {
      "text/plain": [
       "'Prada, You are doing a great job!'"
      ]
     },
     "execution_count": 22,
     "metadata": {},
     "output_type": "execute_result"
    }
   ],
   "source": [
    "result = app.invoke({\"message\": \"Prada,\"})\n",
    "result['message']"
   ]
  }
 ],
 "metadata": {
  "kernelspec": {
   "display_name": "venv",
   "language": "python",
   "name": "python3"
  },
  "language_info": {
   "codemirror_mode": {
    "name": "ipython",
    "version": 3
   },
   "file_extension": ".py",
   "mimetype": "text/x-python",
   "name": "python",
   "nbconvert_exporter": "python",
   "pygments_lexer": "ipython3",
   "version": "3.12.4"
  }
 },
 "nbformat": 4,
 "nbformat_minor": 5
}
